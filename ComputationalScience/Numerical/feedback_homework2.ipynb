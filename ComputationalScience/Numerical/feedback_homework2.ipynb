{
 "cells": [
  {
   "cell_type": "markdown",
   "metadata": {},
   "source": [
    "Please **submit this Jupyter notebook through Canvas** no later than **Monday November 12, 12:59**, before the start of the lecture.\n",
    "\n",
    "Homework is in **groups of two**, and you are expected to hand in original work. Work that is copied from another group will not be accepted."
   ]
  },
  {
   "cell_type": "markdown",
   "metadata": {},
   "source": [
    "# Exercise 0\n",
    "Write down the names + student ID of the people in your group."
   ]
  },
  {
   "cell_type": "markdown",
   "metadata": {},
   "source": [
    "Rebecca de Feijter (10639918)\n",
    "\n",
    "Tessa Ridderikhoff (10759697)"
   ]
  },
  {
   "cell_type": "markdown",
   "metadata": {},
   "source": [
    "-----\n",
    "# Exercise 1"
   ]
  },
  {
   "cell_type": "markdown",
   "metadata": {},
   "source": [
    "## (a)\n",
    "Let $A$ be the matrix $\\begin{bmatrix} 1 & -1 & \\alpha \\\\ 2 & 2 & 1 \\\\ 0 & \\alpha & -3/2 \\end{bmatrix}$. For which values of $\\alpha$ is $A$ singular?"
   ]
  },
  {
   "cell_type": "markdown",
   "metadata": {},
   "source": [
    "$\\alpha = -3/2$ or $\\alpha = 2$, because for those value of $\\alpha$ the det(A) = 0, meaning the matrix is singular. "
   ]
  },
  {
   "cell_type": "markdown",
   "metadata": {},
   "source": [
    "## (b)\n",
    "Consider the following linear system of equations:\n",
    "$$\n",
    "\\begin{align*}\n",
    "2x + y + z & = 3 \\\\\n",
    "2x - y + 3z &= 5 \\\\\n",
    "-2x + \\alpha y + 3z &= 1.\n",
    "\\end{align*}\n",
    "$$\n",
    "For what values of $\\alpha$ does this system have an infinite number of solutions?"
   ]
  },
  {
   "cell_type": "markdown",
   "metadata": {},
   "source": [
    "The linear system has an infinite number of solutions when the x, y and z can be expressed as a function of z. With $\\alpha = -5$, the solution set becomes (1-z, 1+z, z), so an infinite number of solutions is possible for any real value of z.  "
   ]
  },
  {
   "cell_type": "markdown",
   "metadata": {},
   "source": [
    "## (c)\n",
    "Denote the columns of an $n \\times n$ matrix $A$ as $A_k$ for $k=1,\\ldots,n$. We define the function $||A||_* = \\max_k ||A_k||_2$. Show that $||A||_*$ is a norm, in that it satisfies the first three properties of a matrix norm (cf. §2.3.2)."
   ]
  },
  {
   "cell_type": "markdown",
   "metadata": {},
   "source": [
    "The first three properties:\n",
    "1. $||A|| > 0$ if $A \\neq 0$\n",
    "\n",
    "If $A \\neq 0$, that means that at least one value in A is a nonzero value. This means that when for the column of that value the 2-norm is calculated, this value is absolute and squared, and therefore also positive. Thus, the maximum value among all columns is always larger than 0.\n",
    "\n",
    "2. $||\\gamma A|| = |\\gamma|$ x $||A||$ for any scalar $\\gamma$.\n",
    "\n",
    "When applying a scalar $\\gamma$ to matrix A, all values in A are multiplied by $\\gamma$. Since this influences the size of values (the norm) in a matrix, the same effect is achieved when multiplying the norm of A by the absolute value of that scalar afterwards.\n",
    "\n",
    "Because $\\gamma$ is multiplied by the 2-norm of A as an absolute, the result corresponds with the 2-norm of $\\gamma A$, since here the absolute of all values is taken as well. \n",
    "\n",
    "3. $||A + B|| \\le ||A|| + ||B||$\n",
    "\n",
    "When adding matrix A to matrix B, the $||A||_{*}$ returns the maximum 2-norm of all columns. However, when adding the norms of A and B afterwards, the maximum 2-norm of matrix A is added to the maximum 2-norm of matrix B, and therefore this is always bigger. Only if either $||A||_{*}$ or $||B||_{*}$ is 0, $||A + B|| = ||A|| + ||B||$."
   ]
  },
  {
   "cell_type": "markdown",
   "metadata": {},
   "source": [
    "<font color=red>Your argument for the third one is not valid -- what happens when $B = A$? Isn't $||A + B||_* = ||A||_* + ||B||_*$ then?\n",
    "\n",
    "I was looking for something along the lines of\n",
    "$$ ||A + B||_* = \\max_k ||A_k + B_k||_2 \\leq \\max_k (||A_k||_2 + ||B_k||_2) \\leq \\max_k ||A_k||_2 + \\max_k ||B_k||_2 = ||A||_* + ||B||_2.$$\n",
    "Minus 1/2 point.</font>"
   ]
  },
  {
   "cell_type": "markdown",
   "metadata": {},
   "source": [
    "----\n",
    "# Exercise 2\n",
    "For solving linear systems such as $Ax = b$, it is unnecessary (and often unstable) to compute the inverse $A^{-1}$. Nonetheless, there can be situations where it is useful to compute $A^{-1}$ explicitly. One way to do so is by using the LU-decomposition of $A$."
   ]
  },
  {
   "cell_type": "markdown",
   "metadata": {},
   "source": [
    "## (a)\n",
    "Write an algorithm to compute $A^{-1}$ for a non-singular matrix $A$ using its LU-decomposition. You can use `scipy.linalg.lu` (which returns an LU-decomposition with _partial pivoting_, i.e., with a permutation matrix $P$) and the other `scipy.linalg.lu_*` functions, but not `scipy.linalg.inv` (or other methods for computing matrix inverses directly)."
   ]
  },
  {
   "cell_type": "code",
   "execution_count": 5,
   "metadata": {},
   "outputs": [
    {
     "name": "stdout",
     "output_type": "stream",
     "text": [
      "[[-0.08247423  0.18556701  0.24742268 -0.29896907]\n",
      " [-0.26804124 -0.89690722 -0.19587629  1.27835052]\n",
      " [ 0.26804124  0.39690722  0.19587629 -0.77835052]\n",
      " [ 0.05154639  0.13402062 -0.15463918  0.06185567]]\n"
     ]
    }
   ],
   "source": [
    "import scipy\n",
    "from scipy import linalg\n",
    "import numpy as np\n",
    "\n",
    "def getInverse(A):\n",
    "    \n",
    "    # get LU factorisation of matrix A\n",
    "    lu, piv = scipy.linalg.lu_factor(A)\n",
    "    \n",
    "    # define identity matrix\n",
    "    I = np.identity(len(A[0]))\n",
    "    \n",
    "    # calculate inverse using L, U and the identity matrix\n",
    "    inv = scipy.linalg.lu_solve((lu, piv), I)\n",
    "    return inv\n",
    "    \n",
    "# example matrix\n",
    "print(getInverse(([[2, 5, 8, 7], [5, 2, 2, 8], [7, 5, 6, 6], [5, 4, 4, 8]])))"
   ]
  },
  {
   "cell_type": "markdown",
   "metadata": {},
   "source": [
    "## (b)\n",
    "What is the computational complexity of your algorithm, given that the input matrix has size $n \\times n$?"
   ]
  },
  {
   "cell_type": "markdown",
   "metadata": {},
   "source": [
    "LU decomposition is $O(n^{3})$, determining the inverse of a triangular matrix can be computed in $O(n^{2})$. So the total computational complexity is $O(n^{3} + n^{2})$."
   ]
  },
  {
   "cell_type": "markdown",
   "metadata": {},
   "source": [
    "## (c)\n",
    "Apply your Python code to compute the inverse of the Hilbert matrix $H_n$ for $n=1, \\ldots, 12$ (see https://en.wikipedia.org/wiki/Hilbert_matrix) -- you can use `scipy.linalg.hilbert`. This matrix is _very_ ill-conditioned, so computing its inverse is very hard for large $n$.\n",
    "\n",
    "Compare the inverse with the \"true\" inverse given by `scipy.linalg.invhilbert`. Output a (`plt.semilogy`) graph showing how the $\\infty$-norm of their difference progresses for $n$."
   ]
  },
  {
   "cell_type": "code",
   "execution_count": 6,
   "metadata": {},
   "outputs": [
    {
     "data": {
      "image/png": "[encoded data removed]",
      "text/plain": [
       "<Figure size 432x288 with 1 Axes>"
      ]
     },
     "metadata": {
      "needs_background": "light"
     },
     "output_type": "display_data"
    }
   ],
   "source": [
    "import matplotlib.pyplot as plt\n",
    "from scipy.linalg import hilbert, invhilbert\n",
    "\n",
    "n = 1\n",
    "ns = []\n",
    "norms = []\n",
    "\n",
    "for i in list(range(0, 100)):\n",
    "    \n",
    "    # create Hilbert matrix of size n\n",
    "    A = hilbert(n)\n",
    "    \n",
    "    # calculate different inverses\n",
    "    ourinv = getInverse(A)\n",
    "    hilbertinv = invhilbert(n)\n",
    "    \n",
    "    # calculate difference between inverse matrices\n",
    "    difference = abs(ourinv - hilbertinv)\n",
    "    \n",
    "    # calculate infinity-norm of difference matrix\n",
    "    differencenorm = np.linalg.norm(difference, ord=np.inf)\n",
    "    \n",
    "    ns.append(n)\n",
    "    norms.append(differencenorm)\n",
    "    n += 1\n",
    "\n",
    "fig, ax = plt.subplots()\n",
    "ax.semilogy(ns, norms)\n",
    "ax.set_xlabel(\"n\")\n",
    "ax.set_ylabel(\"Infinity norm of difference matrix our inverse - \\\"true\\\" inverse\")\n",
    "plt.show()"
   ]
  },
  {
   "cell_type": "markdown",
   "metadata": {},
   "source": [
    "## (d)\n",
    "It is known that the $2$-condition number $cond_2(H_n)$ of the Hilbert matrix grows like $\\mathcal O\\left(\\frac{(1+\\sqrt{2})^{4n}}{\\sqrt{n}}\\right)$. Does the $\\infty$-condition number (defined in Example 2.5) of $H_n$ grow in a similar way?\n",
    "For the matrix inverse, try both your own matrix inversion routine, and `scipy.linalg.invhilbert`. Output a (`plt.semilogy`) graph showing your results."
   ]
  },
  {
   "cell_type": "code",
   "execution_count": 8,
   "metadata": {},
   "outputs": [
    {
     "data": {
      "image/png": "[encoded data removed]",
      "text/plain": [
       "<Figure size 432x288 with 1 Axes>"
      ]
     },
     "metadata": {
      "needs_background": "light"
     },
     "output_type": "display_data"
    }
   ],
   "source": [
    "import math\n",
    "\n",
    "n = 1\n",
    "ns = []\n",
    "ourconds = []\n",
    "hilbertconds = []\n",
    "expectedgrowth = []\n",
    "\n",
    "for i in list(range(0, 100)):\n",
    "    \n",
    "    # create Hilbert matrix of size n\n",
    "    A = hilbert(n)\n",
    "    \n",
    "    # calculate different inverses\n",
    "    ourinv = getInverse(A)\n",
    "    hilbertinv = invhilbert(n)\n",
    "    \n",
    "    # calculate norms\n",
    "    matrixnorm = np.linalg.norm(A, ord=np.inf)\n",
    "    ournorm = np.linalg.norm(ourinv, ord=np.inf)\n",
    "    hilbertnorm = np.linalg.norm(hilbertinv, ord=np.inf)\n",
    "    \n",
    "    ns.append(n)\n",
    "    \n",
    "    # calculate infinity-condition numbers for both inverses\n",
    "    ourcond = matrixnorm * ournorm\n",
    "    ourconds.append(ourcond)\n",
    "    \n",
    "    hilbertcond = matrixnorm * hilbertnorm\n",
    "    hilbertconds.append(hilbertcond)\n",
    "    \n",
    "    # define expected growth for 2-condition number\n",
    "    growth2cond = (((1 + math.sqrt(2))**(4 * n))/math.sqrt(n))\n",
    "    expectedgrowth.append(growth2cond)\n",
    "\n",
    "    n += 1\n",
    "    \n",
    "fig, ax = plt.subplots()\n",
    "ax.semilogy(ns, ourconds, label = \"Infinity-condition number (our inverse)\")\n",
    "ax.semilogy(ns, hilbertconds, label = \"Infinity-condition number (Hilbert inverse)\")\n",
    "ax.semilogy(ns, expectedgrowth, label = \"Growth 2-condition\")\n",
    "ax.set_xlabel(\"n\")\n",
    "ax.set_ylabel(\"Condition number\")\n",
    "ax.legend(fontsize = \"medium\")\n",
    "plt.show()"
   ]
  },
  {
   "cell_type": "markdown",
   "metadata": {},
   "source": [
    "<font color=red>(a)--(c) look good. For the last one, your computation of `growth2cond` was wrong (missing some brackets resulting in a much lower number). I changed it, and now it looks better. I would have liked to see some kind of analysis as well of why our method breaks down for $n>12$. Minus 1/2 points.</font>"
   ]
  },
  {
   "cell_type": "code",
   "execution_count": null,
   "metadata": {},
   "outputs": [],
   "source": []
  }
 ],
 "metadata": {
  "anaconda-cloud": {},
  "kernelspec": {
   "display_name": "Python 3",
   "language": "python",
   "name": "python3"
  },
  "language_info": {
   "codemirror_mode": {
    "name": "ipython",
    "version": 3
   },
   "file_extension": ".py",
   "mimetype": "text/x-python",
   "name": "python",
   "nbconvert_exporter": "python",
   "pygments_lexer": "ipython3",
   "version": "3.7.0"
  }
 },
 "nbformat": 4,
 "nbformat_minor": 2
}
