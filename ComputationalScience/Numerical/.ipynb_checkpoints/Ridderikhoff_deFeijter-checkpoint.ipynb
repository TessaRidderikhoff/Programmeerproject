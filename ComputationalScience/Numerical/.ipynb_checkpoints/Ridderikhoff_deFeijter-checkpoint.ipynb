{
 "cells": [
  {
   "cell_type": "markdown",
   "metadata": {},
   "source": [
    "Please **submit this Jupyter notebook through Canvas** no later than **Monday November 5 12:59**, before the start of the lecture.\n",
    "\n",
    "Homework is in **groups of two**, and you are expected to hand in original work. Work that is copied from another group will not be accepted."
   ]
  },
  {
   "cell_type": "markdown",
   "metadata": {},
   "source": [
    "# Exercise 0\n",
    "Write down the names + student ID of the people in your group."
   ]
  },
  {
   "cell_type": "markdown",
   "metadata": {},
   "source": [
    "Rebecca de Feijter (10639918)\n",
    "\n",
    "Tessa Ridderikhoff (10759697)"
   ]
  },
  {
   "cell_type": "markdown",
   "metadata": {},
   "source": [
    "-----\n",
    "# Exercise 1\n",
    "Consider the function $f(x) = \\tan(x)$. Because $\\tan(x) = \\sin(x) / \\cos(x)$, we can approximate $f(x)$ using Taylor approximations for $\\sin(x)$ and $\\cos(x)$:\n",
    "$$\n",
    "  \\sin(x) \\approx x - \\frac{1}{6} x^3, \\quad \\text{and} \\quad \\cos(x) \\approx 1 - \\frac{1}{2} x^2.\n",
    "$$\n",
    "This gives the approximation\n",
    "$$\n",
    "\\hat f(x) = \\frac{x - \\frac{1}{6} x^3}{1 - \\frac{1}{2} x^2}.\n",
    "$$"
   ]
  },
  {
   "cell_type": "markdown",
   "metadata": {},
   "source": [
    "## (a)\n",
    "Evaluate $f(x)$ and $\\hat f(x)$ at $x = 1$ and $x = 1.4$. Compute the absolute forward error and absolute backward error."
   ]
  },
  {
   "cell_type": "code",
   "execution_count": 50,
   "metadata": {
    "collapsed": false
   },
   "outputs": [
    {
     "name": "stdout",
     "output_type": "stream",
     "text": [
      "Absolute forward error x = 1:  0.109258942012\n",
      "Absolute backward error x = 1:  0.0303768265243\n",
      "Absolute forward error x = 1.4:  41.3354496179\n",
      "Absolute backward error x = 1.4:  0.149583102003\n"
     ]
    }
   ],
   "source": [
    "import math\n",
    "\n",
    "# x = 1\n",
    "\n",
    "# forward error\n",
    "fwerr = abs(math.tan(1) - (1 - (1.0/6.0) * 1)/(1 - (1.0/2.0) * 1))\n",
    "\n",
    "# backward error\n",
    "bwerr = abs(1 - math.atan((1 - (1.0/6.0) * 1)/(1 - (1.0/2.0) * 1)))\n",
    "\n",
    "print \"Absolute forward error x = 1: \", fwerr\n",
    "print \"Absolute backward error x = 1: \", bwerr\n",
    "\n",
    "# x = 1.4\n",
    "\n",
    "# forward error\n",
    "fwerr2 = abs(math.tan(1.4) - (1.4 - (1.0/6.0 * (1.4)**3))/(1 - (1.0/2.0)*(1.4)**2))\n",
    "\n",
    "# backward error\n",
    "bwerr2 = abs(1.4 - math.atan((1.4 - (1.0/6.0 * (1.4)**3))/(1 - (1.0/2.0)*(1.4)**2)))\n",
    "\n",
    "print \"Absolute forward error x = 1.4: \", fwerr2\n",
    "print \"Absolute backward error x = 1.4: \", bwerr2\n"
   ]
  },
  {
   "cell_type": "markdown",
   "metadata": {},
   "source": [
    "## (b)\n",
    "Ignore $\\hat f(x)$ for now. Compute the relative condition number of $f(x)$ near $x=1$ and near $x=1.4$."
   ]
  },
  {
   "cell_type": "code",
   "execution_count": 51,
   "metadata": {
    "collapsed": false
   },
   "outputs": [
    {
     "name": "stdout",
     "output_type": "stream",
     "text": [
      "Relative condition number x = 1:  2.19950034059\n",
      "Relative condition number x = 1.4:  8.35850461784\n"
     ]
    }
   ],
   "source": [
    "import numpy as np\n",
    "\n",
    "# condition number is defined by x(f'(x)/f(x) (after Taylor expansion)\n",
    "\n",
    "# x = 1\n",
    "conf = abs((1 * (1 + math.tan(1)**2)) / math.tan(1))\n",
    "print \"Relative condition number x = 1: \", conf\n",
    "\n",
    "# x = 1.4\n",
    "conf2 = abs((1.4 * (1 + math.tan(1.4)**2)) / math.tan(1.4))\n",
    "print \"Relative condition number x = 1.4: \", conf2"
   ]
  },
  {
   "cell_type": "markdown",
   "metadata": {},
   "source": [
    "## (c)\n",
    "Compute the relative condition number of $\\hat f(x)$ near $x=1$ and near $x=1.4$."
   ]
  },
  {
   "cell_type": "code",
   "execution_count": 19,
   "metadata": {
    "collapsed": false
   },
   "outputs": [
    {
     "name": "stdout",
     "output_type": "stream",
     "text": [
      "Relative condition number head of f x = 1:  0.6\n",
      "Relative condition number head of f x = 1.4:  32.6765676568\n"
     ]
    }
   ],
   "source": [
    "# condition number is defined by x * f^'(x)/f^(x)\n",
    "\n",
    "# x = 1\n",
    "x = 1\n",
    "con1 = (x * ((x**4 + 12)/(3 * (2 - x**2))**2))/((x - (1.0/6.0) * x**3)/(1 - (1.0/2.0) * x**2))\n",
    "\n",
    "print \"Relative condition number head of f x = 1: \", con1\n",
    "\n",
    "# x = 1.4\n",
    "x = 1.4\n",
    "con2 = (x * ((x**4 + 12)/(3 * (2 - x**2))**2))/((x - (1.0/6.0) * x**3)/(1 - (1.0/2.0) * x**2))\n",
    "\n",
    "print \"Relative condition number head of f x = 1.4: \", con2"
   ]
  },
  {
   "cell_type": "markdown",
   "metadata": {},
   "source": [
    "--------\n",
    "# Exercise 2\n",
    "Consider the following finite difference approximations of the second derivative of a function $f(x)$:\n",
    "$$\n",
    "\\text{Centered FD:} \\quad f''(x) \\approx \\frac{f(x+h) - 2f(x) + f(x-h)}{h^2},\n",
    "$$\n",
    "$$\n",
    "\\text{Forward FD:} \\quad f''(x) \\approx \\frac{f(x+2h) - 2f(x+h) + f(x)}{h^2}.\n",
    "$$"
   ]
  },
  {
   "cell_type": "markdown",
   "metadata": {},
   "source": [
    "## (a)\n",
    "Consider the function $f(x) = \\exp(-2x)$ evaluated at $x = 0.5$. Compute both finite difference approximations for the range $h \\in \\{1, 10^{-1}, \\ldots, 10^{-16}\\}$."
   ]
  },
  {
   "cell_type": "code",
   "execution_count": 54,
   "metadata": {
    "collapsed": false
   },
   "outputs": [
    {
     "name": "stdout",
     "output_type": "stream",
     "text": [
      "H =  1\n",
      "Forward:  0.275043251435\n",
      "Central:  2.03231001448\n",
      "H =  0.1\n",
      "Forward:  1.20879812886\n",
      "Central:  1.47642936865\n",
      "H =  0.01\n",
      "Forward:  1.44242784066\n",
      "Central:  1.47156681593\n",
      "H =  0.001\n",
      "Forward:  1.46857815975\n",
      "Central:  1.47151825519\n",
      "H =  0.0001\n",
      "Forward:  1.47122349303\n",
      "Central:  1.47151776875\n",
      "H =  1e-05\n",
      "Forward:  1.47148737639\n",
      "Central:  1.47151790753\n",
      "H =  1e-06\n",
      "Forward:  1.47165613029\n",
      "Central:  1.47143408569\n",
      "H =  1e-07\n",
      "Forward:  1.45994327738\n",
      "Central:  1.47659662275\n",
      "H =  1e-08\n",
      "Forward:  2.77555756156\n",
      "Central:  0.555111512313\n",
      "H =  1e-09\n",
      "Forward:  0.0\n",
      "Central:  0.0\n",
      "H =  1e-10\n",
      "Forward:  5551.11512313\n",
      "Central:  5551.11512313\n",
      "H =  1e-11\n",
      "Forward:  555111.512313\n",
      "Central:  555111.512313\n",
      "H =  1e-12\n",
      "Forward:  0.0\n",
      "Central:  0.0\n",
      "H =  1e-13\n",
      "Forward:  11102230246.3\n",
      "Central:  5551115123.13\n",
      "H =  1e-14\n",
      "Forward:  555111512313.0\n",
      "Central:  555111512313.0\n",
      "H =  1e-15\n",
      "Forward:  5.55111512313e+13\n",
      "Central:  0.0\n"
     ]
    },
    {
     "data": {
      "image/png": "[encoded data removed]",
      "text/plain": [
       "<matplotlib.figure.Figure at 0x7517630>"
      ]
     },
     "metadata": {},
     "output_type": "display_data"
    }
   ],
   "source": [
    "def forwardf(x, h):\n",
    "    return (f(x + 2 * h) - 2 * f(x + h) + f(x))/(h**2)\n",
    "\n",
    "def centralf(x, h):\n",
    "    return (f(x + h) - 2 * f(x) + f(x - h))/(h**2)\n",
    "\n",
    "h = []\n",
    "\n",
    "for i in list(range(0, 16)):\n",
    "    h.append(10**-i)\n",
    "    \n",
    "x = 0.5\n",
    "\n",
    "def f(x):\n",
    "    return np.exp(-2 * x)\n",
    "\n",
    "diffs = []\n",
    "    \n",
    "# calculate differences\n",
    "for i in h:\n",
    "    print \"H = \", i\n",
    "    \n",
    "    # forward\n",
    "    forwarddiff = abs(forwardf(x, i))\n",
    "    print \"Forward: \", forwarddiff\n",
    "    \n",
    "    # central\n",
    "    centraldiff = abs(centralf(x, i))\n",
    "    print \"Central: \", centraldiff\n",
    "    diffs.append(centraldiff)\n",
    "  \n",
    "# # plot figure\n",
    "# fig, ax = plt.subplots()\n",
    "# ax.loglog(h, diffs)\n",
    "# plt.show()\n",
    "\n",
    "    "
   ]
  },
  {
   "cell_type": "markdown",
   "metadata": {},
   "source": [
    "## (b)\n",
    "Using the true second derivative $f''(x)$ at $x=0.5$, plot the total error of the two approximations as a function of $h$, like Figure 1.1 of the book by Heath.\n",
    "\n",
    "$$\n",
    "\\text{Centered FD:} \\quad f''(x) \\approx \\frac{f(x+h) - 2f(x) + f(x-h)}{h^2},\n",
    "$$\n",
    "$$\n",
    "\\text{Forward FD:} \\quad f''(x) \\approx \\frac{f(x+2h) - 2f(x+h) + f(x)}{h^2}.\n",
    "$$"
   ]
  },
  {
   "cell_type": "code",
   "execution_count": 55,
   "metadata": {
    "collapsed": false
   },
   "outputs": [
    {
     "data": {
      "image/png": "[encoded data removed]",
      "text/plain": [
       "<matplotlib.figure.Figure at 0x75170f0>"
      ]
     },
     "metadata": {},
     "output_type": "display_data"
    }
   ],
   "source": [
    "import matplotlib.pyplot as plt\n",
    "\n",
    "x = 0.5\n",
    "\n",
    "# real second derivative\n",
    "def realdev(x):\n",
    "    return 4 * np.exp(-2*x)\n",
    "\n",
    "allforward = []\n",
    "allcentral = []\n",
    "\n",
    "realvalue = realdev(x)\n",
    "\n",
    "for i in h:\n",
    "    \n",
    "    # calculate forward and centered approximations\n",
    "    fsd = abs(forwardf(x, i))\n",
    "    csd = abs(centralf(x, i))\n",
    "    \n",
    "    # calculate errors\n",
    "    forwarderror = abs(fsd - realvalue)\n",
    "    centralerror = abs(csd - realvalue)\n",
    "    allforward.append(forwarderror)\n",
    "    allcentral.append(centralerror)\n",
    "    \n",
    "\n",
    "# plot results\n",
    "fig, ax = plt.subplots()\n",
    "ax.loglog(h, allforward, label = \"Forward difference error\")\n",
    "ax.loglog(h, allcentral, label = \"Centered difference error\")\n",
    "ax.set_xlabel(\"Step size h\")\n",
    "ax.set_ylabel(\"Error\")\n",
    "ax.legend(fontsize = \"medium\")\n",
    "plt.show()"
   ]
  },
  {
   "cell_type": "markdown",
   "metadata": {},
   "source": [
    "## (c)\n",
    "Explain, in words, what you see. How do these approximations compare?"
   ]
  },
  {
   "cell_type": "markdown",
   "metadata": {},
   "source": [
    "The centered difference approximation leads to equal or smaller error values than the forward difference approximation, so approximates the real values a little better. Especially when the step size is optimal (h = 10^-4) the error of the central difference is very small. The optimal step size for the forward difference is actually a little smaller, at 10^-5. "
   ]
  },
  {
   "cell_type": "markdown",
   "metadata": {},
   "source": [
    "----\n",
    "# Exercise 3 (Computer exercise 1.13 from the book)\n",
    "If an amount $a$ is invested at interest rate $r$ compounded $n$ times per year, then the final value $f$ at the end of one year is given by\n",
    "$$\n",
    "  f = a (1 + r/n)^n.\n",
    "$$\n",
    "This is the familiar formula for _compound interest_. When simple interest, $n=1$. Typically, compounding is done quarterly ($n=4$) or daily ($n=365$). Obviously, the more frequent the compounding, the greater the final amount. But how much difference does this frequency actually make?"
   ]
  },
  {
   "cell_type": "markdown",
   "metadata": {},
   "source": [
    "## (a)\n",
    "Write a program that implements the compound interest formula. Test your program using an initial investment of $a=100$, interest rate of 5 percent (so $r=0.05$), and the following values for $n$: $1, 4, 12, 365$.\n",
    "Do not use Pythons `pow` function, but compute $f$ as $a (1 + r/n) \\cdot (1+r/n) \\cdot \\ldots \\cdot (1+r/n)$."
   ]
  },
  {
   "cell_type": "code",
   "execution_count": 56,
   "metadata": {
    "collapsed": false
   },
   "outputs": [
    {
     "name": "stdout",
     "output_type": "stream",
     "text": [
      "n = 1:  105.0\n",
      "n = 4:  105.094533691\n",
      "n = 12:  105.116189788\n",
      "n = 365:  105.126749647\n"
     ]
    }
   ],
   "source": [
    "def compound(a, r, n):\n",
    "    f = a\n",
    "    for i in list(range(0, n)):\n",
    "        f = f * (1 + (r/n))\n",
    "    return f\n",
    "\n",
    "print \"n = 1: \", compound(100, 0.05, 1)\n",
    "print \"n = 4: \", compound(100, 0.05, 4)\n",
    "print \"n = 12: \", compound(100, 0.05, 12)\n",
    "print \"n = 365: \", compound(100, 0.05, 365)"
   ]
  },
  {
   "cell_type": "markdown",
   "metadata": {},
   "source": [
    "## (b)\n",
    "We can rewrite $f$ as $f = a \\exp(n \\log(1 + r/n))$. Using this formula, do the same as in (a)."
   ]
  },
  {
   "cell_type": "code",
   "execution_count": 60,
   "metadata": {
    "collapsed": false
   },
   "outputs": [
    {
     "name": "stdout",
     "output_type": "stream",
     "text": [
      "n = 1:  105.0\n",
      "n = 4:  105.094533691\n",
      "n = 12:  105.116189788\n",
      "n = 365:  105.126749647\n",
      "No difference in results at first glance. But when plotting the actual difference between the outcomes of formula a and b: \n"
     ]
    },
    {
     "data": {
      "image/png": "[encoded data removed]",
      "text/plain": [
       "<matplotlib.figure.Figure at 0x6be1f90>"
      ]
     },
     "metadata": {},
     "output_type": "display_data"
    }
   ],
   "source": [
    "def compoundexp(a, r, n):\n",
    "    f = a * np.exp(n * np.log(1 + (r/n)))\n",
    "    return f\n",
    "\n",
    "print \"n = 1: \", compoundexp(100, 0.05, 1)\n",
    "print \"n = 4: \", compoundexp(100, 0.05, 4)\n",
    "print \"n = 12: \", compoundexp(100, 0.05, 12)\n",
    "print \"n = 365: \", compoundexp(100, 0.05, 365)\n",
    "\n",
    "print \"No difference in results at first glance. But when plotting the actual difference between the outcomes of formula a and b: \"\n",
    "\n",
    "errors = []\n",
    "\n",
    "for i in list(range(1, 365)):\n",
    "    errors.append(abs(compound(100, 0.05, i) - compoundexp(100, 0.05, i)))\n",
    "    \n",
    "fig, ax = plt.subplots()\n",
    "ax.scatter(list(range(1, 365)), errors)\n",
    "ax.set_ylim(0, 3 * 10**-13)\n",
    "ax.set_xlim(0, 365)\n",
    "ax.set_xlabel(\"Size of n\")\n",
    "ax.set_ylabel(\"Absolute difference between formula a and b\")\n",
    "plt.show()"
   ]
  },
  {
   "cell_type": "markdown",
   "metadata": {},
   "source": [
    "## (c)\n",
    "Can you find a value of $n$ such that the formula of (a) becomes unstable? Explain this phenomenon in words."
   ]
  },
  {
   "cell_type": "markdown",
   "metadata": {},
   "source": [
    "A formula is unstable when it leads to unneccesarily wrong answers, caused by rounding. When comparing formula a and b, the difference in outcome increases as a larger n is used. This can be explained by the fact that in formula a the floats are more often multiplied by other floats, creating more and more digits, resulting in rounding errors with an increasing number of multiplications. "
   ]
  }
 ],
 "metadata": {
  "anaconda-cloud": {},
  "kernelspec": {
   "display_name": "Python [conda root]",
   "language": "python",
   "name": "conda-root-py"
  },
  "language_info": {
   "codemirror_mode": {
    "name": "ipython",
    "version": 2
   },
   "file_extension": ".py",
   "mimetype": "text/x-python",
   "name": "python",
   "nbconvert_exporter": "python",
   "pygments_lexer": "ipython2",
   "version": "2.7.12"
  }
 },
 "nbformat": 4,
 "nbformat_minor": 2
}
